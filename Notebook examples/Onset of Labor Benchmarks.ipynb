{
 "cells": [
  {
   "cell_type": "code",
   "execution_count": null,
   "id": "59c8aa51",
   "metadata": {},
   "outputs": [],
   "source": [
    "import warnings\n",
    "warnings.filterwarnings('ignore')"
   ]
  },
  {
   "cell_type": "markdown",
   "id": "4988b56c",
   "metadata": {},
   "source": [
    "# Libraries"
   ]
  },
  {
   "cell_type": "code",
   "execution_count": null,
   "id": "ed777ae1",
   "metadata": {
    "tags": []
   },
   "outputs": [],
   "source": [
    "import numpy as np\n",
    "import pandas as pd\n",
    "from pathlib import Path\n",
    "\n",
    "from sklearn.model_selection import GroupShuffleSplit\n",
    "from sklearn.base import clone\n",
    "from sklearn.linear_model import Lasso\n",
    "\n",
    "from stabl.stabl import Stabl, plot_stabl_path, plot_fdr_graph, save_stabl_results\n",
    "from stabl.preprocessing import LowInfoFilter, remove_low_info_samples\n",
    "\n",
    "%config InlineBackend.figure_formats=['retina']"
   ]
  },
  {
   "cell_type": "code",
   "execution_count": null,
   "id": "ebdae33c",
   "metadata": {
    "tags": []
   },
   "outputs": [],
   "source": [
    "from stabl.multi_omic_pipelines import multi_omic_stabl, multi_omic_stabl_cv, late_fusion_lasso_cv\n",
    "from stabl.single_omic_pipelines import single_omic_stabl, single_omic_stabl_cv\n",
    "from stabl.pipelines_utils import compute_features_table"
   ]
  },
  {
   "cell_type": "markdown",
   "id": "9f9ba553",
   "metadata": {},
   "source": [
    "# Data"
   ]
  },
  {
   "cell_type": "markdown",
   "id": "a167cacd",
   "metadata": {},
   "source": [
    "## Training Data"
   ]
  },
  {
   "cell_type": "code",
   "execution_count": null,
   "id": "c8865975",
   "metadata": {
    "tags": []
   },
   "outputs": [],
   "source": [
    "y_train = pd.read_csv(\"../Sample Data/Onset of Labor/Training/DOS.csv\", index_col=0).DOS\n",
    "patients_id = pd.read_csv(\"../Sample Data/Onset of Labor/Training/ID.csv\",index_col=0).Id\n",
    "\n",
    "meta_train = pd.read_csv(\"../Sample Data/Onset of Labor/Training/Metabolomics.csv\", index_col=0)\n",
    "cyto_train = pd.read_csv(\"../Sample Data/Onset of Labor/Training/CyTOF.csv\", index_col=0)\n",
    "prot_train = pd.read_csv(\"../Sample Data/Onset of Labor/Training/Proteomics.csv\", index_col=0)"
   ]
  },
  {
   "cell_type": "markdown",
   "id": "8629885c",
   "metadata": {},
   "source": [
    "## Validation Data"
   ]
  },
  {
   "cell_type": "code",
   "execution_count": null,
   "id": "76c19361",
   "metadata": {},
   "outputs": [],
   "source": [
    "y_test = pd.read_csv(\"../Sample Data/Onset of Labor/Validation/DOS_validation.csv\",index_col=0).DOS\n",
    "cyto_test = pd.read_csv(\"../Sample Data/Onset of Labor/Validation/CyTOF_validation.csv\", index_col=0)\n",
    "prot_test = pd.read_csv(\"../Sample Data/Onset of Labor/Validation/Proteomics_validation.csv\", index_col=0)"
   ]
  },
  {
   "cell_type": "markdown",
   "id": "7be87bf6",
   "metadata": {},
   "source": [
    "## Data dictionaries"
   ]
  },
  {
   "cell_type": "markdown",
   "id": "dcc220d0",
   "metadata": {},
   "source": [
    "We will define here different dictionaries depending on if we use validation or not"
   ]
  },
  {
   "cell_type": "code",
   "execution_count": null,
   "id": "d4310a66",
   "metadata": {
    "tags": []
   },
   "outputs": [],
   "source": [
    "train_data_dict = {\n",
    "    \"CyTOF\": cyto_train,\n",
    "    \"Proteomics\": prot_train,\n",
    "    \"Metabolomics\": meta_train\n",
    "}\n",
    "\n",
    "train_data_dict_red = {\n",
    "    \"CyTOF\": cyto_train,\n",
    "    \"Proteomics\": prot_train\n",
    "}\n",
    "\n",
    "test_data_dict = {\n",
    "    \"CyTOF\": cyto_test,\n",
    "    \"Proteomics\": prot_test\n",
    "}"
   ]
  },
  {
   "cell_type": "markdown",
   "id": "ada6f225",
   "metadata": {},
   "source": [
    "# Results folder"
   ]
  },
  {
   "cell_type": "code",
   "execution_count": null,
   "id": "cc4081b0",
   "metadata": {
    "tags": []
   },
   "outputs": [],
   "source": [
    "result_folder = \"./Results Onset of Labor\""
   ]
  },
  {
   "cell_type": "markdown",
   "id": "2640444c",
   "metadata": {},
   "source": [
    "# Multi-omic Training-CV"
   ]
  },
  {
   "cell_type": "code",
   "execution_count": null,
   "id": "7f2a67d6",
   "metadata": {
    "tags": []
   },
   "outputs": [],
   "source": [
    "lasso = Lasso(max_iter=int(1e6))  # Redefining the base model as we are in the regressio case\n",
    "\n",
    "stabl = Stabl(\n",
    "    base_estimator=clone(lasso),\n",
    "    lambda_name='alpha',\n",
    "    lambda_grid=np.logspace(0, 2, 10),\n",
    "    n_bootstraps=300,\n",
    "    artificial_proportion=1.,\n",
    "    artificial_type=\"random_permutation\",\n",
    "    replace=False,\n",
    "    fdr_threshold_range=np.arange(0.1, 1, 0.01),\n",
    "    sample_fraction=.5,\n",
    "    random_state=42\n",
    ")\n",
    "\n",
    "outer_splitter = GroupShuffleSplit(n_splits=100, test_size=.2, random_state=42)\n",
    "\n",
    "stability_selection = clone(stabl).set_params(artificial_type=None, hard_threshold=.3)"
   ]
  },
  {
   "cell_type": "code",
   "execution_count": null,
   "id": "2d933af7",
   "metadata": {
    "scrolled": true,
    "tags": []
   },
   "outputs": [],
   "source": [
    "predictions_dict = multi_omic_stabl_cv(\n",
    "    data_dict=train_data_dict,\n",
    "    y=y_train,\n",
    "    outer_splitter=outer_splitter,\n",
    "    stabl=stabl,\n",
    "    stability_selection=stability_selection,\n",
    "    task_type=\"regression\",\n",
    "    save_path=Path(result_folder, \"Cytof_Prot_Meta\"),\n",
    "    outer_groups=patients_id\n",
    ")"
   ]
  },
  {
   "cell_type": "markdown",
   "id": "90e68587",
   "metadata": {},
   "source": [
    "# Multi-omic Training (Cytof+Prot+Meta)"
   ]
  },
  {
   "cell_type": "code",
   "execution_count": null,
   "id": "f0dc1407",
   "metadata": {
    "tags": []
   },
   "outputs": [],
   "source": [
    "stabl_multi = Stabl(\n",
    "    base_estimator=lasso,\n",
    "    lambda_name='alpha',\n",
    "    lambda_grid=np.logspace(0, 2, 30),\n",
    "    n_bootstraps=1000,\n",
    "    artificial_proportion=1.,\n",
    "    artificial_type=\"random_permutation\",\n",
    "    replace=False,\n",
    "    fdr_threshold_range=np.arange(0.2, 1, 0.01),\n",
    "    sample_fraction=.5,\n",
    "    random_state=42\n",
    ")\n",
    "\n",
    "stability_selection = clone(stabl_multi).set_params(artificial_type=None, hard_threshold=.1)"
   ]
  },
  {
   "cell_type": "code",
   "execution_count": null,
   "id": "7266dc63",
   "metadata": {
    "tags": []
   },
   "outputs": [],
   "source": [
    "predictions_dict = multi_omic_stabl(\n",
    "    data_dict=train_data_dict,\n",
    "    y=y_train,\n",
    "    stabl=stabl_multi,\n",
    "    stability_selection=stability_selection,\n",
    "    task_type=\"regression\",\n",
    "    save_path=Path(result_folder, \"Cytof_Prot_Meta\"),\n",
    ")"
   ]
  },
  {
   "cell_type": "markdown",
   "id": "4a372416",
   "metadata": {},
   "source": [
    "# Multi-omic Training-Validation (Cytof+Prot)"
   ]
  },
  {
   "cell_type": "code",
   "execution_count": null,
   "id": "d2b42a8a",
   "metadata": {
    "tags": []
   },
   "outputs": [],
   "source": [
    "stabl_multi = Stabl(\n",
    "    base_estimator=lasso,\n",
    "    lambda_name='alpha',\n",
    "    lambda_grid=np.logspace(0, 2, 30),\n",
    "    n_bootstraps=1000,\n",
    "    artificial_proportion=1.,\n",
    "    artificial_type=\"random_permutation\",\n",
    "    replace=False,\n",
    "    fdr_threshold_range=np.arange(0.2, 1, 0.01),\n",
    "    sample_fraction=.5,\n",
    "    random_state=42\n",
    ")\n",
    "\n",
    "stability_selection = clone(stabl_multi).set_params(artificial_type=None, hard_threshold=.1)"
   ]
  },
  {
   "cell_type": "code",
   "execution_count": null,
   "id": "34209157",
   "metadata": {
    "tags": []
   },
   "outputs": [],
   "source": [
    "predictions_dict = multi_omic_stabl(\n",
    "    data_dict=train_data_dict_red,\n",
    "    y=y_train,\n",
    "    stabl=stabl_multi,\n",
    "    stability_selection=stability_selection,\n",
    "    task_type=\"regression\",\n",
    "    save_path=Path(result_folder, \"Cytof_Prot\"),\n",
    "    X_test=pd.concat(test_data_dict.values(),axis=1),\n",
    "    y_test=y_test\n",
    ")"
   ]
  },
  {
   "cell_type": "markdown",
   "id": "0b99bb77-4834-4fe0-9003-d4cac805ab78",
   "metadata": {},
   "source": [
    "# Late fusion Lasso"
   ]
  },
  {
   "cell_type": "code",
   "execution_count": null,
   "id": "51f91bc0-678a-4578-8740-99b0656f50e2",
   "metadata": {
    "tags": []
   },
   "outputs": [],
   "source": [
    "late_fusion_lasso_cv(\n",
    "    train_data_dict=train_data_dict,\n",
    "    y=y_train,\n",
    "    outer_splitter=outer_splitter,\n",
    "    task_type=\"regression\",\n",
    "    save_path=Path(result_folder, \"Cytof_Prot_Meta\"),\n",
    "    groups=patients_id\n",
    ")"
   ]
  },
  {
   "cell_type": "markdown",
   "id": "dfe92665-cef4-4665-ba16-404f55cfcfd4",
   "metadata": {},
   "source": [
    "# Table of features"
   ]
  },
  {
   "cell_type": "markdown",
   "id": "7393c5ec",
   "metadata": {},
   "source": [
    "## Table of features for Cytof+Prot+Meta case"
   ]
  },
  {
   "cell_type": "code",
   "execution_count": null,
   "id": "8b23faaa",
   "metadata": {},
   "outputs": [],
   "source": [
    "selected_features_dict = dict()\n",
    "for model in [\"STABL\", \"EF Lasso\", \"SS 03\", \"SS 05\", \"SS 08\"]:\n",
    "    path = Path(result_folder, \"Cytof_Prot_Meta\", \"Training-Validation\", f\"{model} coefficients.csv\")\n",
    "    try:\n",
    "        selected_features_dict[model] = list(pd.read_csv(path, index_col=0).iloc[:, 0].index)\n",
    "    except:\n",
    "        selected_features_dict[model] = []"
   ]
  },
  {
   "cell_type": "code",
   "execution_count": null,
   "id": "c0c971bd",
   "metadata": {},
   "outputs": [],
   "source": [
    "features_table = compute_features_table(\n",
    "    selected_features_dict,\n",
    "    X_train=pd.concat(train_data_dict.values(), axis=1),\n",
    "    y_train=y_train,\n",
    "    #X_test=pd.concat(test_data_dict.values(), axis=1),\n",
    "    #y_test=y_test,\n",
    "    task_type=\"regression\"\n",
    ")"
   ]
  },
  {
   "cell_type": "code",
   "execution_count": null,
   "id": "4169ff97",
   "metadata": {},
   "outputs": [],
   "source": [
    "features_table.to_csv(Path(result_folder, \"Cytof_Prot_Meta\", \"Training-Validation\", \"Table of features.csv\"))"
   ]
  },
  {
   "cell_type": "markdown",
   "id": "d9a96fae",
   "metadata": {},
   "source": [
    "## Table of features for Cytof+Prot case (with validation)"
   ]
  },
  {
   "cell_type": "code",
   "execution_count": null,
   "id": "a0b514bc",
   "metadata": {},
   "outputs": [],
   "source": [
    "selected_features_dict = dict()\n",
    "for model in [\"STABL\", \"EF Lasso\", \"SS 03\", \"SS 05\", \"SS 08\"]:\n",
    "    path = Path(result_folder, \"Cytof_Prot\", \"Training-Validation\", f\"{model} coefficients.csv\")\n",
    "    try:\n",
    "        selected_features_dict[model] = list(pd.read_csv(path, index_col=0).iloc[:, 0].index)\n",
    "    except:\n",
    "        selected_features_dict[model] = []"
   ]
  },
  {
   "cell_type": "code",
   "execution_count": null,
   "id": "1794379b",
   "metadata": {},
   "outputs": [],
   "source": [
    "features_table = compute_features_table(\n",
    "    selected_features_dict,\n",
    "    X_train=pd.concat(train_data_dict.values(), axis=1),\n",
    "    y_train=y_train,\n",
    "    X_test=pd.concat(test_data_dict.values(), axis=1),\n",
    "    y_test=y_test,\n",
    "    task_type=\"regression\"\n",
    ")"
   ]
  },
  {
   "cell_type": "code",
   "execution_count": null,
   "id": "8e89a226",
   "metadata": {},
   "outputs": [],
   "source": [
    "features_table.to_csv(Path(result_folder,\"Cytof_Prot\", \"Training-Validation\", \"Table of features.csv\"))"
   ]
  }
 ],
 "metadata": {
  "kernelspec": {
   "display_name": "Python 3 (ipykernel)",
   "language": "python",
   "name": "python3"
  },
  "language_info": {
   "codemirror_mode": {
    "name": "ipython",
    "version": 3
   },
   "file_extension": ".py",
   "mimetype": "text/x-python",
   "name": "python",
   "nbconvert_exporter": "python",
   "pygments_lexer": "ipython3",
   "version": "3.10.4"
  },
  "lcc_arn": "arn:aws:sagemaker:us-east-1:011021124722:studio-lifecycle-config/pip-install-kernel",
  "toc": {
   "base_numbering": 1,
   "nav_menu": {},
   "number_sections": true,
   "sideBar": true,
   "skip_h1_title": false,
   "title_cell": "Table of Contents",
   "title_sidebar": "Contents",
   "toc_cell": false,
   "toc_position": {},
   "toc_section_display": true,
   "toc_window_display": false
  }
 },
 "nbformat": 4,
 "nbformat_minor": 5
}

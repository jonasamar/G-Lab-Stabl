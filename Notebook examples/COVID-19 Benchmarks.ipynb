{
 "cells": [
  {
   "cell_type": "code",
   "execution_count": null,
   "id": "8e9a7aa1",
   "metadata": {},
   "outputs": [],
   "source": [
    "import warnings\n",
    "warnings.filterwarnings('ignore')"
   ]
  },
  {
   "cell_type": "markdown",
   "id": "89424e6b",
   "metadata": {},
   "source": [
    "# Libraries"
   ]
  },
  {
   "cell_type": "markdown",
   "id": "453b83ba",
   "metadata": {},
   "source": [
    "## Basic libraries"
   ]
  },
  {
   "cell_type": "code",
   "execution_count": null,
   "id": "46d4d5b0",
   "metadata": {
    "tags": []
   },
   "outputs": [],
   "source": [
    "import numpy as np\n",
    "import pandas as pd\n",
    "from pathlib import Path\n",
    "\n",
    "from sklearn.model_selection import RepeatedStratifiedKFold\n",
    "from sklearn.base import clone\n",
    "\n",
    "from stabl.stabl import Stabl, plot_stabl_path, plot_fdr_graph, save_stabl_results\n",
    "from stabl.preprocessing import LowInfoFilter, remove_low_info_samples\n",
    "\n",
    "%config InlineBackend.figure_formats=['retina']"
   ]
  },
  {
   "cell_type": "markdown",
   "id": "a4e6088e",
   "metadata": {},
   "source": [
    "## Stabl Pipelines"
   ]
  },
  {
   "cell_type": "code",
   "execution_count": null,
   "id": "ca733a9e",
   "metadata": {
    "tags": []
   },
   "outputs": [],
   "source": [
    "from stabl.multi_omic_pipelines import multi_omic_stabl, multi_omic_stabl_cv\n",
    "from stabl.single_omic_pipelines import single_omic_stabl, single_omic_stabl_cv\n",
    "from stabl.pipelines_utils import compute_features_table"
   ]
  },
  {
   "cell_type": "markdown",
   "id": "216799f5",
   "metadata": {},
   "source": [
    "# Data"
   ]
  },
  {
   "cell_type": "markdown",
   "id": "894f75ce",
   "metadata": {},
   "source": [
    "## Training data"
   ]
  },
  {
   "cell_type": "code",
   "execution_count": null,
   "id": "8c57e425",
   "metadata": {
    "tags": []
   },
   "outputs": [],
   "source": [
    "# Importing the training data\n",
    "X_train = pd.read_csv('../Sample Data/COVID-19/Training/Proteomics.csv',index_col=\"sampleID\")\n",
    "y_train = pd.read_csv(\"../Sample Data/COVID-19/Training/Mild&ModVsSevere.csv\", index_col=0).iloc[:, 0]"
   ]
  },
  {
   "cell_type": "markdown",
   "id": "89ac7942",
   "metadata": {},
   "source": [
    "## Validation Data"
   ]
  },
  {
   "cell_type": "code",
   "execution_count": null,
   "id": "89f6e868-a862-4cc4-b0a2-29d75279dd85",
   "metadata": {
    "tags": []
   },
   "outputs": [],
   "source": [
    "X_val = pd.read_csv(\"../Sample Data/COVID-19/Validation/Validation_proteomics.csv\", index_col=0)\n",
    "y_val = ~pd.read_csv(\"../Sample Data/COVID-19/Validation/Validation_outcome(WHO.0 ≥ 5).csv\", index_col=0).iloc[:,0]"
   ]
  },
  {
   "cell_type": "markdown",
   "id": "ba43c6d4",
   "metadata": {},
   "source": [
    "# Result folder name"
   ]
  },
  {
   "cell_type": "code",
   "execution_count": null,
   "id": "e0bfa286",
   "metadata": {
    "tags": []
   },
   "outputs": [],
   "source": [
    "result_folder = \"./Results COVID-19\""
   ]
  },
  {
   "cell_type": "markdown",
   "id": "abbb89da",
   "metadata": {},
   "source": [
    "# Single-omic Training-CV"
   ]
  },
  {
   "cell_type": "code",
   "execution_count": null,
   "id": "8c688774",
   "metadata": {
    "tags": []
   },
   "outputs": [],
   "source": [
    "stabl = Stabl(\n",
    "    lambda_grid=np.linspace(0.01, 5, 10),\n",
    "    n_bootstraps=1000,\n",
    "    artificial_type=\"random_permutation\",\n",
    "    replace=False,\n",
    "    fdr_threshold_range=np.arange(0.1, 1, 0.01),\n",
    "    sample_fraction=.5,\n",
    "    random_state=42\n",
    ")\n",
    "\n",
    "stability_selection = clone(stabl).set_params(hard_threshold=.1, artificial_type = None)\n",
    "\n",
    "outer_splitter = RepeatedStratifiedKFold(n_splits=5, n_repeats=20, random_state=42)"
   ]
  },
  {
   "cell_type": "code",
   "execution_count": null,
   "id": "cbf974e4-3fe1-419d-b1b0-8698191191f4",
   "metadata": {
    "scrolled": true,
    "tags": []
   },
   "outputs": [],
   "source": [
    "predictions_dict = single_omic_stabl_cv(\n",
    "    X=X_train,\n",
    "    y=y_train,\n",
    "    outer_splitter=outer_splitter,\n",
    "    stabl=stabl,\n",
    "    stability_selection=stability_selection,\n",
    "    task_type=\"binary\",\n",
    "    save_path=result_folder,\n",
    "    outer_groups=None\n",
    ")"
   ]
  },
  {
   "cell_type": "markdown",
   "id": "017ca697-569a-4996-927d-adf7c9ec7565",
   "metadata": {},
   "source": [
    "# Tables of features"
   ]
  },
  {
   "cell_type": "code",
   "execution_count": null,
   "id": "42866cb9-02ca-4d2b-8739-609a96ee367c",
   "metadata": {
    "tags": []
   },
   "outputs": [],
   "source": [
    "selected_features_dict = dict()\n",
    "for model in [\"STABL\", \"Lasso\", \"Lasso 1SE\", \"ElasticNet\", \"SS 03\", \"SS 05\", \"SS 08\"]:\n",
    "    path = Path(result_folder, \"Training-Validation\", f\"{model} coefficients.csv\")\n",
    "    try:\n",
    "        selected_features_dict[model] = list(pd.read_csv(path, index_col=0).iloc[:, 0].index)\n",
    "    except:\n",
    "        selected_features_dict[model] = []"
   ]
  },
  {
   "cell_type": "code",
   "execution_count": null,
   "id": "feafb92f",
   "metadata": {},
   "outputs": [],
   "source": [
    "features_table = compute_features_table(\n",
    "    selected_features_dict,\n",
    "    X_train=X_train,\n",
    "    y_train=y_train,\n",
    "    X_test=X_val,\n",
    "    y_test=y_val,\n",
    "    task_type=\"binary\")"
   ]
  },
  {
   "cell_type": "code",
   "execution_count": null,
   "id": "50bee53d-a56c-4118-a6c5-6b74f22c67c6",
   "metadata": {
    "tags": []
   },
   "outputs": [],
   "source": [
    "features_table.to_csv(Path(result_folder, \"Training-Validation\", \"Table of features.csv\"))"
   ]
  }
 ],
 "metadata": {
  "instance_type": "ml.c5.2xlarge",
  "kernelspec": {
   "display_name": "Python 3 (ipykernel)",
   "language": "python",
   "name": "python3"
  },
  "language_info": {
   "codemirror_mode": {
    "name": "ipython",
    "version": 3
   },
   "file_extension": ".py",
   "mimetype": "text/x-python",
   "name": "python",
   "nbconvert_exporter": "python",
   "pygments_lexer": "ipython3",
   "version": "3.10.4"
  },
  "lcc_arn": "arn:aws:sagemaker:us-east-1:011021124722:studio-lifecycle-config/pip-install-kernel",
  "toc": {
   "base_numbering": 1,
   "nav_menu": {},
   "number_sections": true,
   "sideBar": true,
   "skip_h1_title": false,
   "title_cell": "Table of Contents",
   "title_sidebar": "Contents",
   "toc_cell": false,
   "toc_position": {
    "height": "calc(100% - 180px)",
    "left": "10px",
    "top": "150px",
    "width": "384px"
   },
   "toc_section_display": true,
   "toc_window_display": true
  }
 },
 "nbformat": 4,
 "nbformat_minor": 5
}

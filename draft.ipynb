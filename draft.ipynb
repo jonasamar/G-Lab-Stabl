{
 "cells": [
  {
   "cell_type": "code",
   "execution_count": 2,
   "metadata": {},
   "outputs": [
    {
     "name": "stderr",
     "output_type": "stream",
     "text": [
      "/var/folders/v_/wlr8vlpn1tzgb7_j_7kncp4w0000gn/T/ipykernel_29201/2556596869.py:2: VisibleDeprecationWarning: Creating an ndarray from ragged nested sequences (which is a list-or-tuple of lists-or-tuples-or ndarrays with different lengths or shapes) is deprecated. If you meant to do this, you must specify 'dtype=object' when creating the ndarray.\n",
      "  test = {2: np.array([[0.5   , 0.5   , 0.5   , ..., 0.4   , 0.5   , 0.4   ],\n"
     ]
    }
   ],
   "source": [
    "import numpy as np \n",
    "test = {2: np.array([[0.5   , 0.5   , 0.5   , ..., 0.4   , 0.5   , 0.4   ],\n",
    "       [0.5   , 0.5   , 0.5   , ..., 0.4   , 0.4   , 0.3   ],\n",
    "       [0.5   , 0.5   , 0.5   , ..., 0.35  , 0.35  , 0.35  ],\n",
    "       ...,\n",
    "       [0.5   , 0.5   , 0.5   , ..., 0.55  , 0.55  , 0.55  ],\n",
    "       [0.5   , 0.5   , 0.5   , ..., 0.625 , 0.625 , 0.625 ],\n",
    "       [0.5   , 0.5   , 0.5   , ..., 0.5625, 0.5625, 0.5625]])}"
   ]
  },
  {
   "cell_type": "code",
   "execution_count": 8,
   "metadata": {},
   "outputs": [
    {
     "ename": "KeyError",
     "evalue": "True",
     "output_type": "error",
     "traceback": [
      "\u001b[0;31m---------------------------------------------------------------------------\u001b[0m",
      "\u001b[0;31mKeyError\u001b[0m                                  Traceback (most recent call last)",
      "Cell \u001b[0;32mIn[8], line 1\u001b[0m\n\u001b[0;32m----> 1\u001b[0m test[\u001b[39mTrue\u001b[39;49;00m]\n",
      "\u001b[0;31mKeyError\u001b[0m: True"
     ]
    }
   ],
   "source": [
    "test[True]"
   ]
  },
  {
   "cell_type": "code",
   "execution_count": null,
   "metadata": {},
   "outputs": [],
   "source": []
  }
 ],
 "metadata": {
  "kernelspec": {
   "display_name": ".venv",
   "language": "python",
   "name": "python3"
  },
  "language_info": {
   "codemirror_mode": {
    "name": "ipython",
    "version": 3
   },
   "file_extension": ".py",
   "mimetype": "text/x-python",
   "name": "python",
   "nbconvert_exporter": "python",
   "pygments_lexer": "ipython3",
   "version": "3.9.5"
  },
  "orig_nbformat": 4
 },
 "nbformat": 4,
 "nbformat_minor": 2
}
